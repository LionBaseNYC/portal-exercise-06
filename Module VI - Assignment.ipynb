{
 "cells": [
  {
   "cell_type": "markdown",
   "metadata": {},
   "source": [
    "# Module VI - Assignment\n",
    "\n",
    "If you choose to do this assignment with other people, then please include all names in your submission.\n",
    "\n",
    "In this assignment, we present you with a tricky project management siutation. There isn't one right answer, what's most important is that you can make a strong argument behind your decisions.\n",
    "\n",
    "We have also intentionally chosen a technical, but non-data science related project.\n",
    "- Project management is actaully considered a non-technical field, and does not rely on technical knowledge\n",
    "- So, we're going to put things outside of the comfort zone here! \n",
    "\n",
    "## Problem\n",
    "You are the project manager for a team working on a web platform for matching dogs in shelters to senior citizens in nursing homes. The project is currently in the following state:\n",
    "- The frontend team (responsible for building what customers see and interact) is on schedule\n",
    "  - 3 people on frontend\n",
    "- The backend team (responsible for data, modelling, everything we do not see in a website) is behind schedule, they were meant to deliver an API (a way for data to be passed to the website) to the frontend team two weeks ago -- frontend team is currently using hardcoded or dummy values \n",
    "  - 3 people on backend\n",
    "- You are aware that at least 1 individual on the backend team is struggling with personal issues\n",
    "- There are 2 other backend developers and 1 full-stack developer (able to handle both frontend and backend) who are working on other projects under different PMs\n",
    "  - It is possible to open up a recruitment round for new developers\n",
    "- The client is happy, they are aware that the backend is behind schedule but only care  about the frontend because that’s what they can see. However, the client is non-technical and doesn’t really understand that the backend is equally crucial.\n",
    "\n",
    "What’s been built:\n",
    "- Senior citizen profile - static webpage \n",
    "- Dog profile profile - static webpage\n",
    "- Search page - wireframe\n",
    "- Matching algorithm\n",
    "- Database of information with models for:\n",
    "  - Dogs\n",
    "  - Senior Citizens\n",
    "\n",
    "Current feature backlog:\n",
    "- Develop API for frontend team to access database to populate static pages\n",
    "- Create wireframe for sign-up flow\n",
    "- Create notification system\n",
    "- Create email service\n",
    "- Connect senior citizen profiles to database\n",
    "- Connect dog profiles to database\n",
    "- Create static webpage for search page\n",
    "- Define search filters\n",
    "- Create search filters for search page\n",
    "- Create engagements logic (how do senior citizens get connected with dogs?)\n",
    "- Discussion with team on what core of the product is\n",
    "\n",
    "<span style=\"color:red\">**How would you propose getting the project back on track?**\n",
    "- FOr this assignment, provide two deliverables:\n",
    "  1) Your plan\n",
    "  2) The email you would send to the client about what will happen in the next sprint</span>\n",
    "_____________\n",
    "\n",
    "### Some questions to ask that might help guide your thinking:\n",
    "\n",
    "**BACKEND: What does “behind schedule” mean?**\n",
    "- What has been done?\n",
    "- What needs to be done?\n",
    "- What is the timeline?\n",
    "\n",
    "**PERSONAL (empathy, leadership, etc.):**\n",
    "- How will you address people's unique challenges?\n",
    "\n",
    "**FRONTEND: What does “on schedule” mean? Can further advances be made to overdeliver?**\n",
    "- What has been done?\n",
    "- What needs to be done?\n",
    "- What is the timeline?\n",
    "\n",
    "**What obstacles are there to both Backend and Frontend teams?**\n",
    "- Are they hindering each other? \n",
    "\n",
    "**FEATURE PRIORITIZATION/BREAKDOWN**\n",
    "\n",
    "How will you prioritize what needs to happen?\n",
    "\n",
    "**COMMUNICATION**\n",
    "- How will you communicate the situation to both the team and the client/user? \n",
    "\n",
    "**DECISION TIME:**\n",
    "- Sticking with current team?\n",
    "- Reaching out to other teams?\n",
    "- What would you ask and how would you frame your ask to the other PMs and developers? (if there is any ask)\n",
    "- Recruiting?\n",
    "  - Consider the lag time\n",
    "\n",
    "___"
   ]
  },
  {
   "cell_type": "markdown",
   "metadata": {},
   "source": [
    "# YOUR PLAN:"
   ]
  },
  {
   "cell_type": "markdown",
   "metadata": {},
   "source": [
    "# YOUR EMAIL TO THE CLIENT:"
   ]
  }
 ],
 "metadata": {
  "kernelspec": {
   "display_name": "Python 3",
   "language": "python",
   "name": "python3"
  },
  "language_info": {
   "codemirror_mode": {
    "name": "ipython",
    "version": 3
   },
   "file_extension": ".py",
   "mimetype": "text/x-python",
   "name": "python",
   "nbconvert_exporter": "python",
   "pygments_lexer": "ipython3",
   "version": "3.6.3"
  }
 },
 "nbformat": 4,
 "nbformat_minor": 2
}
